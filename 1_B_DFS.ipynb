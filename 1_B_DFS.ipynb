{
 "cells": [
  {
   "cell_type": "markdown",
   "id": "95116861-0af6-49a9-a1bd-30867d195033",
   "metadata": {},
   "source": [
    "<font color=\"yellow\" size=\"6\">1_B_DFS</font>"
   ]
  },
  {
   "cell_type": "code",
   "execution_count": 1,
   "id": "9032158d-3db7-4b13-a640-c39174c649e3",
   "metadata": {},
   "outputs": [
    {
     "name": "stdout",
     "output_type": "stream",
     "text": [
      "A\n",
      "B\n",
      "D\n",
      "E\n",
      "F\n",
      "C\n"
     ]
    }
   ],
   "source": [
    "graph = {\n",
    "    'A' : ['B','C'],\n",
    "    'B' : ['D', 'E'],\n",
    "    'C' : ['F'],\n",
    "    'D' : [],\n",
    "    'E' : ['F'],\n",
    "    'F' : []\n",
    "}\n",
    "\n",
    "visited = set() # Set to keep track of visited nodes.\n",
    "\n",
    "def dfs(visited, graph, node):\n",
    "    if node not in visited:\n",
    "        print (node)\n",
    "        visited.add(node)\n",
    "        for neighbour in graph[node]:\n",
    "            dfs(visited, graph, neighbour)\n",
    "# Driver Code\n",
    "dfs(visited, graph, 'A')\n"
   ]
  },
  {
   "cell_type": "code",
   "execution_count": null,
   "id": "44d1bc9e-5b1b-4cce-a87b-209b4f70a666",
   "metadata": {},
   "outputs": [],
   "source": []
  }
 ],
 "metadata": {
  "kernelspec": {
   "display_name": "Python 3 (ipykernel)",
   "language": "python",
   "name": "python3"
  },
  "language_info": {
   "codemirror_mode": {
    "name": "ipython",
    "version": 3
   },
   "file_extension": ".py",
   "mimetype": "text/x-python",
   "name": "python",
   "nbconvert_exporter": "python",
   "pygments_lexer": "ipython3",
   "version": "3.8.19"
  }
 },
 "nbformat": 4,
 "nbformat_minor": 5
}
