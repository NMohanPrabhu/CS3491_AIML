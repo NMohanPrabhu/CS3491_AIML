{
 "cells": [
  {
   "cell_type": "markdown",
   "id": "ec2ed73f-ec47-4fe0-8fce-db1abb1d7234",
   "metadata": {},
   "source": [
    "<font color=\"yellow\" size=\"6\"> EM for Bayesian networks</font>"
   ]
  },
  {
   "cell_type": "code",
   "execution_count": 1,
   "id": "dc38daa6-5d32-42ca-8e5a-b464e3af1b41",
   "metadata": {},
   "outputs": [],
   "source": [
    "import numpy as np\n",
    "import pandas as pd\n",
    "from pgmpy.models import BayesianNetwork\n",
    "from pgmpy.estimators import ExpectationMaximization as EM\n"
   ]
  },
  {
   "cell_type": "code",
   "execution_count": 2,
   "id": "38babb70-3bcf-4168-bbb0-7bba2c5e1598",
   "metadata": {},
   "outputs": [],
   "source": [
    "data = pd.DataFrame(np.random.randint(low=0, high=2, size=(1000, 3)),columns=['A', 'C', 'D'])"
   ]
  },
  {
   "cell_type": "code",
   "execution_count": 3,
   "id": "e5da9d3e-c342-48b6-8a84-127e721ea271",
   "metadata": {},
   "outputs": [
    {
     "data": {
      "application/vnd.jupyter.widget-view+json": {
       "model_id": "807b9558bdb04e1eaba6eab0937e0c43",
       "version_major": 2,
       "version_minor": 0
      },
      "text/plain": [
       "  0%|          | 0/100 [00:00<?, ?it/s]"
      ]
     },
     "metadata": {},
     "output_type": "display_data"
    },
    {
     "data": {
      "text/plain": [
       "[<TabularCPD representing P(C:2) at 0x23b14d87280>,\n",
       " <TabularCPD representing P(A:2) at 0x23b1611e3a0>,\n",
       " <TabularCPD representing P(D:2 | C:2) at 0x23b14d937c0>,\n",
       " <TabularCPD representing P(B:3 | A:2, C:2) at 0x23b24119160>]"
      ]
     },
     "execution_count": 3,
     "metadata": {},
     "output_type": "execute_result"
    }
   ],
   "source": [
    "model = BayesianNetwork([('A', 'B'), ('C', 'B'), ('C', 'D')], latents={'B'})\n",
    "estimator = EM(model, data)\n",
    "estimator.get_parameters(latent_card={'B': 3})\n"
   ]
  },
  {
   "cell_type": "code",
   "execution_count": null,
   "id": "9ad89178-bf39-4729-9a59-b8e5580c1de1",
   "metadata": {},
   "outputs": [],
   "source": []
  }
 ],
 "metadata": {
  "kernelspec": {
   "display_name": "Python 3 (ipykernel)",
   "language": "python",
   "name": "python3"
  },
  "language_info": {
   "codemirror_mode": {
    "name": "ipython",
    "version": 3
   },
   "file_extension": ".py",
   "mimetype": "text/x-python",
   "name": "python",
   "nbconvert_exporter": "python",
   "pygments_lexer": "ipython3",
   "version": "3.8.19"
  }
 },
 "nbformat": 4,
 "nbformat_minor": 5
}
