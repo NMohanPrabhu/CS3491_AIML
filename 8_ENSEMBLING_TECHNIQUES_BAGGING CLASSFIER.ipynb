{
 "cells": [
  {
   "cell_type": "markdown",
   "id": "aaf5bd1c-eeb9-4441-9adf-d4363d058220",
   "metadata": {},
   "source": [
    "<font color=\"yellow\" size=\"6\"> 8_ENSEMBLING_TECHNIQUES:BAGGING CLASSFIER</font>"
   ]
  },
  {
   "cell_type": "code",
   "execution_count": 5,
   "id": "94df42cd-fab7-4e34-8b70-a002e07da46f",
   "metadata": {},
   "outputs": [],
   "source": [
    "from sklearn.ensemble import BaggingClassifier\n",
    "from sklearn.datasets import make_classification\n",
    "from sklearn.datasets import load_digits\n",
    "from sklearn.tree import DecisionTreeClassifier\n",
    "from sklearn import metrics\n",
    "from sklearn.metrics import accuracy_score, classification_report, confusion_matrix\n",
    "from sklearn.model_selection import train_test_split"
   ]
  },
  {
   "cell_type": "code",
   "execution_count": 6,
   "id": "4e201087-f223-4e4d-91f9-98d101e8bcff",
   "metadata": {},
   "outputs": [],
   "source": [
    "# Load the dataset\n",
    "digit = load_digits()\n",
    "X, y = digit.data, digit.target\n"
   ]
  },
  {
   "cell_type": "code",
   "execution_count": 7,
   "id": "0a793172-6b3f-427f-8da2-add6ce528ea6",
   "metadata": {},
   "outputs": [],
   "source": [
    "# Split the data into training and testing sets\n",
    "X_train, X_test, y_train, y_test = train_test_split(X, y, test_size=0.2, random_state=42)\n"
   ]
  },
  {
   "cell_type": "code",
   "execution_count": 8,
   "id": "37f1d01d-0e1f-4e3a-911e-cfb7ed026cbb",
   "metadata": {},
   "outputs": [],
   "source": [
    "# Create the base classifier\n",
    "dc = DecisionTreeClassifier()\n",
    "model = BaggingClassifier(estimator=dc, n_estimators=10)\n",
    "classifiers = model.fit(X_train, y_train)\n"
   ]
  },
  {
   "cell_type": "code",
   "execution_count": 9,
   "id": "ea10baa5-0b11-4e23-8548-e8a776debd28",
   "metadata": {},
   "outputs": [],
   "source": [
    "# Make predictions on the test set\n",
    "y_pred = model.predict(X_test)\n"
   ]
  },
  {
   "cell_type": "code",
   "execution_count": 10,
   "id": "55fea4e5-1090-4b82-b55d-93dbbe32eb9a",
   "metadata": {},
   "outputs": [
    {
     "name": "stdout",
     "output_type": "stream",
     "text": [
      "Accuracy: 0.9388888888888889\n"
     ]
    }
   ],
   "source": [
    "# Calculate accuracy\n",
    "print(\"Accuracy:\", metrics.accuracy_score(y_test, y_pred))\n"
   ]
  },
  {
   "cell_type": "code",
   "execution_count": 11,
   "id": "65e90beb-4782-472f-a881-aadd89616675",
   "metadata": {},
   "outputs": [
    {
     "name": "stdout",
     "output_type": "stream",
     "text": [
      "Classification Report:\n",
      "               precision    recall  f1-score   support\n",
      "\n",
      "           0       1.00      0.94      0.97        33\n",
      "           1       0.90      0.93      0.91        28\n",
      "           2       0.89      0.94      0.91        33\n",
      "           3       0.86      0.94      0.90        34\n",
      "           4       0.92      1.00      0.96        46\n",
      "           5       0.98      0.94      0.96        47\n",
      "           6       0.97      0.94      0.96        35\n",
      "           7       0.97      0.97      0.97        34\n",
      "           8       0.90      0.87      0.88        30\n",
      "           9       1.00      0.90      0.95        40\n",
      "\n",
      "    accuracy                           0.94       360\n",
      "   macro avg       0.94      0.94      0.94       360\n",
      "weighted avg       0.94      0.94      0.94       360\n",
      "\n"
     ]
    }
   ],
   "source": [
    "# Generate a classification report\n",
    "class_report = classification_report(y_test, y_pred)\n",
    "print(\"Classification Report:\\n\", class_report)"
   ]
  },
  {
   "cell_type": "code",
   "execution_count": null,
   "id": "cc9d5d18-36fd-4760-ae36-e85a7a0eb31f",
   "metadata": {},
   "outputs": [],
   "source": []
  }
 ],
 "metadata": {
  "kernelspec": {
   "display_name": "Python 3 (ipykernel)",
   "language": "python",
   "name": "python3"
  },
  "language_info": {
   "codemirror_mode": {
    "name": "ipython",
    "version": 3
   },
   "file_extension": ".py",
   "mimetype": "text/x-python",
   "name": "python",
   "nbconvert_exporter": "python",
   "pygments_lexer": "ipython3",
   "version": "3.8.19"
  }
 },
 "nbformat": 4,
 "nbformat_minor": 5
}
